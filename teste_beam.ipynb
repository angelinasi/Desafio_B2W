{
  "nbformat": 4,
  "nbformat_minor": 0,
  "metadata": {
    "colab": {
      "name": "teste_beam.ipynb",
      "provenance": [],
      "collapsed_sections": [],
      "authorship_tag": "ABX9TyN1RJ0oUeOaJp68Bk6aBEti",
      "include_colab_link": true
    },
    "kernelspec": {
      "name": "python3",
      "display_name": "Python 3"
    }
  },
  "cells": [
    {
      "cell_type": "markdown",
      "metadata": {
        "id": "view-in-github",
        "colab_type": "text"
      },
      "source": [
        "<a href=\"https://colab.research.google.com/github/angelinasi/Desafio_B2W/blob/master/teste_beam.ipynb\" target=\"_parent\"><img src=\"https://colab.research.google.com/assets/colab-badge.svg\" alt=\"Open In Colab\"/></a>"
      ]
    },
    {
      "cell_type": "code",
      "metadata": {
        "id": "QdLAWNpI3ATi",
        "colab_type": "code",
        "outputId": "6c7109cb-4f4a-41e6-8128-8ea221807fb0",
        "colab": {
          "base_uri": "https://localhost:8080/",
          "height": 334
        }
      },
      "source": [
        "# Run and print a shell command.\n",
        "def run(cmd):\n",
        "  !{cmd}\n",
        "\n",
        "# Install apache-beam.\n",
        "run('pip install --quiet apache-beam')\n",
        "run('pip install --quiet apache-beam[interactive]')"
      ],
      "execution_count": 0,
      "outputs": [
        {
          "output_type": "stream",
          "text": [
            "\u001b[K     |████████████████████████████████| 3.4MB 2.8MB/s \n",
            "\u001b[K     |████████████████████████████████| 235kB 30.0MB/s \n",
            "\u001b[K     |████████████████████████████████| 1.2MB 27.4MB/s \n",
            "\u001b[K     |████████████████████████████████| 59.2MB 70kB/s \n",
            "\u001b[K     |████████████████████████████████| 51kB 7.0MB/s \n",
            "\u001b[K     |████████████████████████████████| 61kB 8.2MB/s \n",
            "\u001b[K     |████████████████████████████████| 81kB 9.1MB/s \n",
            "\u001b[K     |████████████████████████████████| 112kB 52.2MB/s \n",
            "\u001b[?25h  Building wheel for hdfs (setup.py) ... \u001b[?25l\u001b[?25hdone\n",
            "  Building wheel for oauth2client (setup.py) ... \u001b[?25l\u001b[?25hdone\n",
            "  Building wheel for avro-python3 (setup.py) ... \u001b[?25l\u001b[?25hdone\n",
            "\u001b[31mERROR: pydrive 1.3.1 has requirement oauth2client>=4.0.0, but you'll have oauth2client 3.0.0 which is incompatible.\u001b[0m\n",
            "\u001b[31mERROR: chainer 6.5.0 has requirement typing<=3.6.6, but you'll have typing 3.7.4.1 which is incompatible.\u001b[0m\n",
            "\u001b[31mERROR: chainer 6.5.0 has requirement typing-extensions<=3.6.6, but you'll have typing-extensions 3.7.4.1 which is incompatible.\u001b[0m\n",
            "\u001b[31mERROR: albumentations 0.1.12 has requirement imgaug<0.2.7,>=0.2.5, but you'll have imgaug 0.2.9 which is incompatible.\u001b[0m\n",
            "\u001b[K     |████████████████████████████████| 61kB 3.4MB/s \n",
            "\u001b[K     |████████████████████████████████| 768kB 8.1MB/s \n",
            "\u001b[?25h  Building wheel for timeloop (setup.py) ... \u001b[?25l\u001b[?25hdone\n",
            "\u001b[31mERROR: google-colab 1.0.0 has requirement ipython~=5.5.0, but you'll have ipython 5.9.0 which is incompatible.\u001b[0m\n"
          ],
          "name": "stdout"
        }
      ]
    },
    {
      "cell_type": "code",
      "metadata": {
        "id": "MOprYgDf7iuY",
        "colab_type": "code",
        "colab": {}
      },
      "source": [
        "from __future__ import absolute_import\n",
        "\n",
        "import json\n",
        "import datetime\n",
        "import argparse\n",
        "\n",
        "import apache_beam as beam\n",
        "from apache_beam.io import ReadFromText\n",
        "from apache_beam.io import WriteToText\n",
        "from apache_beam.options.pipeline_options import PipelineOptions\n"
      ],
      "execution_count": 0,
      "outputs": []
    },
    {
      "cell_type": "code",
      "metadata": {
        "id": "1M1j8rIs8xPg",
        "colab_type": "code",
        "colab": {}
      },
      "source": [
        "inputs_folder = 'input/page-views.json'\n",
        "outputs_folder = 'output/abandoned-carts'"
      ],
      "execution_count": 0,
      "outputs": []
    },
    {
      "cell_type": "code",
      "metadata": {
        "id": "c4WOE-BULUAS",
        "colab_type": "code",
        "colab": {}
      },
      "source": [
        "class JsonCoder(object):\n",
        "\n",
        "  def encode(self, x):\n",
        "    return json.dumps(x)\n",
        "\n",
        "  def decode(self, x):\n",
        "    return json.loads(x)"
      ],
      "execution_count": 0,
      "outputs": []
    },
    {
      "cell_type": "code",
      "metadata": {
        "id": "idihjyrIHyfS",
        "colab_type": "code",
        "colab": {}
      },
      "source": [
        "def filtrar(interacoes, carrinho, pagamento):\n",
        "  interacao_carrinho = list(filter(lambda x: interacoes['customer'] in x, carrinho))\n",
        "  interacao_pagamento = list(filter(lambda x: interacoes['customer'] in x, pagamento))\n",
        "\n",
        "  data_interacao = datetime.datetime.strptime(interacoes['timestamp'],'%Y-%m-%d %H:%M:%S') \n",
        "  data_carrinho = [datetime.datetime.strptime(item[1],'%Y-%m-%d %H:%M:%S') for item in interacao_carrinho]\n",
        "  data_pagamento = [datetime.datetime.strptime(item[1],'%Y-%m-%d %H:%M:%S') for item in interacao_pagamento]\n",
        "\n",
        "  if(len(data_pagamento) > 0 and len(data_carrinho) > 0):\n",
        "    intervalo = (data_pagamento[0] - data_carrinho[0]).total_seconds() / 60.0\n",
        "\n",
        "  if((len(data_pagamento) <= 0 or intervalo > 10) and data_interacao == data_carrinho[0]):\n",
        "      yield interacoes\n",
        "  "
      ],
      "execution_count": 0,
      "outputs": []
    },
    {
      "cell_type": "code",
      "metadata": {
        "colab_type": "code",
        "id": "JamJvWbq_pu0",
        "colab": {}
      },
      "source": [
        "def run(argv=None):\n",
        "  \n",
        "  parser = argparse.ArgumentParser()\n",
        "  parser.add_argument('--input', required=True, help='Arquivo de entrada', default='input/page-views.json')\n",
        "  parser.add_argument('--output', required=True, help='Arquivo de saída', default='output/abandoned-carts')\n",
        "  known_args, pipeline_args = parser.parse_known_args(argv)\n",
        "  pipeline_options = PipelineOptions(pipeline_args)\n",
        "\n",
        "  with beam.Pipeline(options=PipelineOptions()) as pipeline:\n",
        "\n",
        "    interacoes = pipeline | \"lê arquivo de entrada\" >> ReadFromText(known_args.input, coder=JsonCoder())\n",
        "\n",
        "    data_ultima_interacao_carrinho = (\n",
        "          interacoes\n",
        "          | \"filtrar as interações com o carrinho\" >> beam.Filter(lambda elem: elem['page'] == 'basket')\n",
        "          | \"criar key = customer e value = timestamp --car\" >> beam.Map(lambda elem: (elem['customer'], elem['timestamp']))\n",
        "          | \"agrupar pela data da ultima interação --car\" >> beam.CombinePerKey(max)\n",
        "    )  \n",
        "    \n",
        "    data_ultima_interacao_pagamento = (\n",
        "          interacoes\n",
        "          | \"filtrar as interações com o pagamento\" >> beam.Filter(lambda elem: elem['page'] == 'checkout')\n",
        "          | \"criar key = customer e value = timestamp --pag\" >> beam.Map(lambda elem: (elem['customer'], elem['timestamp']))\n",
        "          | \"agrupar pela data da ultima interação --pag\" >> beam.CombinePerKey(max)\n",
        "    )  \n",
        "  \n",
        "    resultado = (\n",
        "        interacoes\n",
        "        | \"verificar quais interações resultaram em abandono de carrinho\" >>\n",
        "          beam.FlatMap(filtrar, carrinho=beam.pvalue.AsList(data_ultima_interacao_carrinho),pagamento=beam.pvalue.AsList(data_ultima_interacao_pagamento))\n",
        "        | \"encoder para formato .json\" >> beam.Map(json.dumps)\n",
        "        | \"cria arquivo de saída\" >> WriteToText(known_args.output,'.json')\n",
        "    )\n"
      ],
      "execution_count": 0,
      "outputs": []
    },
    {
      "cell_type": "code",
      "metadata": {
        "id": "zXaYMNu5pcbY",
        "colab_type": "code",
        "outputId": "f0b229fa-df5d-492b-a5df-af275eadf80c",
        "colab": {
          "base_uri": "https://localhost:8080/",
          "height": 179
        }
      },
      "source": [
        "if __name__ == '__main__':\n",
        "  run()"
      ],
      "execution_count": 0,
      "outputs": [
        {
          "output_type": "stream",
          "text": [
            "usage: ipykernel_launcher.py [-h] --input INPUT --output OUTPUT\n",
            "ipykernel_launcher.py: error: the following arguments are required: --input, --output\n"
          ],
          "name": "stderr"
        },
        {
          "output_type": "error",
          "ename": "SystemExit",
          "evalue": "ignored",
          "traceback": [
            "An exception has occurred, use %tb to see the full traceback.\n",
            "\u001b[0;31mSystemExit\u001b[0m\u001b[0;31m:\u001b[0m 2\n"
          ]
        },
        {
          "output_type": "stream",
          "text": [
            "/usr/local/lib/python3.6/dist-packages/IPython/core/interactiveshell.py:2890: UserWarning: To exit: use 'exit', 'quit', or Ctrl-D.\n",
            "  result.error_in_exec = value\n"
          ],
          "name": "stderr"
        }
      ]
    }
  ]
}